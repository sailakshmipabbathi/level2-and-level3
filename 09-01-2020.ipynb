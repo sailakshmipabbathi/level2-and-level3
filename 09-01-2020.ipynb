{
 "cells": [
  {
   "cell_type": "code",
   "execution_count": 16,
   "metadata": {},
   "outputs": [
    {
     "name": "stdout",
     "output_type": "stream",
     "text": [
      "enter a value12\n",
      "enter b value13\n",
      "enter c value14\n",
      "39\n"
     ]
    }
   ],
   "source": [
    "a=int(input(\"enter a value\"))\n",
    "b=int(input(\"enter b value\"))\n",
    "c=int(input(\"enter c value\"))\n",
    "if(a==b==c):\n",
    "    print(\"0\")\n",
    "elif(a!=b!=c):\n",
    "    print(a+b+c)\n",
    "elif(a==b!=c):\n",
    "    print(c)\n",
    "elif(b==c!=a):\n",
    "    print(a)\n",
    "else:\n",
    "    \n",
    "    print(b)            "
   ]
  },
  {
   "cell_type": "code",
   "execution_count": 29,
   "metadata": {},
   "outputs": [
    {
     "name": "stdout",
     "output_type": "stream",
     "text": [
      "enter a value0010000003\n",
      "33\n",
      "legal\n"
     ]
    }
   ],
   "source": [
    "a=input(\"enter a value\")\n",
    "i=10\n",
    "c=len(a)\n",
    "s=0\n",
    "if c!=10:\n",
    "    print(\"illegal\")\n",
    "else:\n",
    "    a=int(a)\n",
    "    while i!=0:\n",
    "        r=a%10\n",
    "        s=s+r*i\n",
    "        i=i-1\n",
    "        a=(a//10)\n",
    "    print(s)    \n",
    "    if s%11==0:\n",
    "        print(\"legal\")\n",
    "    else:\n",
    "        print(\"illegal\")\n",
    "             \n",
    "    \n"
   ]
  },
  {
   "cell_type": "code",
   "execution_count": 33,
   "metadata": {},
   "outputs": [
    {
     "name": "stdout",
     "output_type": "stream",
     "text": [
      "enter a number5\n",
      "5 * 1 = 5\n",
      "5 * 2 = 10\n",
      "5 * 3 = 15\n",
      "5 * 4 = 20\n",
      "5 * 5 = 25\n",
      "5 * 6 = 30\n",
      "5 * 7 = 35\n",
      "5 * 8 = 40\n",
      "5 * 9 = 45\n",
      "5 * 10 = 50\n"
     ]
    }
   ],
   "source": [
    "n=int(input(\"enter a number\"))\n",
    "i=1\n",
    "for i in range(1,11):\n",
    "    print(n,\"*\",i,\"=\",n*i)\n"
   ]
  },
  {
   "cell_type": "code",
   "execution_count": 6,
   "metadata": {},
   "outputs": [
    {
     "name": "stdout",
     "output_type": "stream",
     "text": [
      "enter a value1\n",
      "enter b value10\n",
      "55\n"
     ]
    }
   ],
   "source": [
    "#printing numbers between range a to b\n",
    "a=int(input(\"enter a value\"))\n",
    "b=int(input(\"enter b value\"))\n",
    "s=0\n",
    "for i in range(a,b+1):\n",
    "    s=s+i\n",
    "print(s)\n",
    "\n",
    "    \n"
   ]
  },
  {
   "cell_type": "code",
   "execution_count": 7,
   "metadata": {},
   "outputs": [
    {
     "name": "stdout",
     "output_type": "stream",
     "text": [
      "enter a number5\n",
      "*\n",
      "\n",
      "**\n",
      "\n",
      "***\n",
      "\n",
      "****\n",
      "\n",
      "*****\n",
      "\n"
     ]
    }
   ],
   "source": [
    "a=int(input(\"enter a number\"))\n",
    "for i in range(1,a+1):\n",
    "    for j in range(1,i+1):\n",
    "        print(\"*\",end=\"\")\n",
    "    print(\"\\n\")"
   ]
  },
  {
   "cell_type": "code",
   "execution_count": 50,
   "metadata": {},
   "outputs": [
    {
     "name": "stdout",
     "output_type": "stream",
     "text": [
      "enter a value5\n",
      "\n",
      "* \n",
      "\n",
      "\n",
      "* \n",
      "* * \n",
      "\n",
      "\n",
      "* \n",
      "* * \n",
      "* * * \n",
      "\n",
      "\n",
      "* \n",
      "* * \n",
      "* * * \n",
      "* * * * \n",
      "\n",
      "\n",
      "* \n",
      "* * \n",
      "* * * \n",
      "* * * * \n",
      "* * * * * \n",
      "\n"
     ]
    }
   ],
   "source": [
    "a=int(input(\"enter a value\"))\n",
    "for i in range(1,a+1):\n",
    "    for j in range(i+1):\n",
    "        for k in range(j):\n",
    "            print(\"*\",end=\" \")\n",
    "        print()\n",
    "    print()"
   ]
  },
  {
   "cell_type": "code",
   "execution_count": 54,
   "metadata": {},
   "outputs": [
    {
     "name": "stdout",
     "output_type": "stream",
     "text": [
      "enter a value2\n",
      "enter number4\n",
      "enter number5\n",
      "enter number6\n",
      "enter number2\n",
      "2\n"
     ]
    }
   ],
   "source": [
    "a=int(input(\"enter a value\"))\n",
    "while(1):\n",
    "    n=int(input(\"enter number\"))\n",
    "    if n==a:\n",
    "        break\n",
    "    else:\n",
    "        k=n\n",
    "        if n<k:\n",
    "            n=k\n",
    "print(n)\n",
    "    "
   ]
  },
  {
   "cell_type": "markdown",
   "metadata": {},
   "source": [
    "# string\n",
    "- group of characters \n",
    "- enclosed in quotes\n",
    "## operations\n",
    "- concatenation\n",
    "- slicing\n",
    "- membership\n",
    "- replication"
   ]
  },
  {
   "cell_type": "code",
   "execution_count": 71,
   "metadata": {},
   "outputs": [
    {
     "name": "stdout",
     "output_type": "stream",
     "text": [
      "python project\n",
      "22\n",
      "True\n",
      "roje\n",
      "\n"
     ]
    }
   ],
   "source": [
    "a='python'\n",
    "b=' project'\n",
    "print(a+b)\n",
    "c=\"2\"\n",
    "print(c*2)\n",
    "print(\"pro\"in b)\n",
    "print(b[2:6])\n",
    "\n"
   ]
  },
  {
   "cell_type": "code",
   "execution_count": 84,
   "metadata": {},
   "outputs": [
    {
     "name": "stdout",
     "output_type": "stream",
     "text": [
      "sai\n"
     ]
    }
   ],
   "source": [
    "a=\"saitirumala\"\n",
    "print(a[-12:-8])"
   ]
  },
  {
   "cell_type": "code",
   "execution_count": 92,
   "metadata": {},
   "outputs": [
    {
     "data": {
      "text/plain": [
       "'nhy'"
      ]
     },
     "execution_count": 92,
     "metadata": {},
     "output_type": "execute_result"
    }
   ],
   "source": [
    "a=\"python\"\n",
    "a[::2]\n",
    "a[::-2]"
   ]
  },
  {
   "cell_type": "code",
   "execution_count": 101,
   "metadata": {},
   "outputs": [
    {
     "name": "stdout",
     "output_type": "stream",
     "text": [
      "python in sten\n"
     ]
    }
   ],
   "source": [
    "a=\"python\"\n",
    "b=\" sten\"\n",
    "print(a+\" in\"+b)\n",
    "\n"
   ]
  },
  {
   "cell_type": "code",
   "execution_count": 6,
   "metadata": {},
   "outputs": [
    {
     "data": {
      "text/plain": [
       "['__add__',\n",
       " '__class__',\n",
       " '__contains__',\n",
       " '__delattr__',\n",
       " '__dir__',\n",
       " '__doc__',\n",
       " '__eq__',\n",
       " '__format__',\n",
       " '__ge__',\n",
       " '__getattribute__',\n",
       " '__getitem__',\n",
       " '__getnewargs__',\n",
       " '__gt__',\n",
       " '__hash__',\n",
       " '__init__',\n",
       " '__init_subclass__',\n",
       " '__iter__',\n",
       " '__le__',\n",
       " '__len__',\n",
       " '__lt__',\n",
       " '__mod__',\n",
       " '__mul__',\n",
       " '__ne__',\n",
       " '__new__',\n",
       " '__reduce__',\n",
       " '__reduce_ex__',\n",
       " '__repr__',\n",
       " '__rmod__',\n",
       " '__rmul__',\n",
       " '__setattr__',\n",
       " '__sizeof__',\n",
       " '__str__',\n",
       " '__subclasshook__',\n",
       " 'capitalize',\n",
       " 'casefold',\n",
       " 'center',\n",
       " 'count',\n",
       " 'encode',\n",
       " 'endswith',\n",
       " 'expandtabs',\n",
       " 'find',\n",
       " 'format',\n",
       " 'format_map',\n",
       " 'index',\n",
       " 'isalnum',\n",
       " 'isalpha',\n",
       " 'isascii',\n",
       " 'isdecimal',\n",
       " 'isdigit',\n",
       " 'isidentifier',\n",
       " 'islower',\n",
       " 'isnumeric',\n",
       " 'isprintable',\n",
       " 'isspace',\n",
       " 'istitle',\n",
       " 'isupper',\n",
       " 'join',\n",
       " 'ljust',\n",
       " 'lower',\n",
       " 'lstrip',\n",
       " 'maketrans',\n",
       " 'partition',\n",
       " 'replace',\n",
       " 'rfind',\n",
       " 'rindex',\n",
       " 'rjust',\n",
       " 'rpartition',\n",
       " 'rsplit',\n",
       " 'rstrip',\n",
       " 'split',\n",
       " 'splitlines',\n",
       " 'startswith',\n",
       " 'strip',\n",
       " 'swapcase',\n",
       " 'title',\n",
       " 'translate',\n",
       " 'upper',\n",
       " 'zfill']"
      ]
     },
     "execution_count": 6,
     "metadata": {},
     "output_type": "execute_result"
    }
   ],
   "source": [
    "dir(str)\n"
   ]
  },
  {
   "cell_type": "code",
   "execution_count": 5,
   "metadata": {},
   "outputs": [
    {
     "data": {
      "text/plain": [
       "'Python Project In Sten'"
      ]
     },
     "execution_count": 5,
     "metadata": {},
     "output_type": "execute_result"
    }
   ],
   "source": [
    "a=\"python project in sten\" \n",
    "a.capitalize()\n",
    "a.title()"
   ]
  },
  {
   "cell_type": "code",
   "execution_count": 10,
   "metadata": {},
   "outputs": [
    {
     "name": "stdout",
     "output_type": "stream",
     "text": [
      "python project in sten\n",
      "python\n",
      "PRiyA\n"
     ]
    }
   ],
   "source": [
    "a=\"python project in sten\"\n",
    "b=\"PYTHON\"\n",
    "c=\"prIYa\"\n",
    "print(a.casefold())\n",
    "print(b.casefold())\n",
    "print(c.swapcase())"
   ]
  },
  {
   "cell_type": "code",
   "execution_count": 12,
   "metadata": {},
   "outputs": [
    {
     "name": "stdout",
     "output_type": "stream",
     "text": [
      "*********python project in sten*********\n",
      "['python', 'project', 'in', 'sten']\n"
     ]
    },
    {
     "data": {
      "text/plain": [
       "'***sten***'"
      ]
     },
     "execution_count": 12,
     "metadata": {},
     "output_type": "execute_result"
    }
   ],
   "source": [
    "a=\"python project in sten\"\n",
    "print(a.center(40,\"*\"))\n",
    "print(a.split())\n",
    "b=\"sten\"\n",
    "b.center(10,\"*\")\n"
   ]
  },
  {
   "cell_type": "code",
   "execution_count": 27,
   "metadata": {},
   "outputs": [
    {
     "name": "stdout",
     "output_type": "stream",
     "text": [
      "python project\n",
      "python project        \n",
      "   python project\n"
     ]
    }
   ],
   "source": [
    "a=\"   python project        \"\n",
    "print(a.strip())\n",
    "print(a.lstrip())\n",
    "print(a.rstrip())"
   ]
  },
  {
   "cell_type": "code",
   "execution_count": 28,
   "metadata": {
    "scrolled": true
   },
   "outputs": [
    {
     "name": "stdout",
     "output_type": "stream",
     "text": [
      "PYTHON PROJECT IN STEN\n",
      "True\n"
     ]
    }
   ],
   "source": [
    "a=\"python project in sten\"\n",
    "print(a.upper())\n",
    "print(a.islower())"
   ]
  },
  {
   "cell_type": "code",
   "execution_count": 88,
   "metadata": {},
   "outputs": [
    {
     "name": "stdout",
     "output_type": "stream",
     "text": [
      "python\n",
      "False\n",
      "b'python'\n",
      "000python\n"
     ]
    }
   ],
   "source": [
    "a=\"python\"\n",
    "print(a.lower())\n",
    "print(a.isupper())\n",
    "print(a.encode(\"ascii\",\"ignore\"))\n",
    "print(a.zfill(9))"
   ]
  },
  {
   "cell_type": "code",
   "execution_count": 65,
   "metadata": {},
   "outputs": [
    {
     "name": "stdout",
     "output_type": "stream",
     "text": [
      "True\n",
      "False\n",
      "False\n",
      "True\n"
     ]
    }
   ],
   "source": [
    "a=\"python project 876in sten123\"\n",
    "b=\"abcdef\"\n",
    "c=\"12345\"\n",
    "d=\"@#$%\"\n",
    "print(c.isdigit())\n",
    "print(a.isalpha())\n",
    "print(d.isalnum())\n",
    "print(b.isalpha())"
   ]
  },
  {
   "cell_type": "code",
   "execution_count": 47,
   "metadata": {},
   "outputs": [
    {
     "name": "stdout",
     "output_type": "stream",
     "text": [
      "s@a@m@y@u\n"
     ]
    }
   ],
   "source": [
    "a=\"abcdef\"\n",
    "c=\"samyu\"\n",
    "b=\"priya\"\n",
    "print(\"@\".join(c))"
   ]
  },
  {
   "cell_type": "code",
   "execution_count": 54,
   "metadata": {},
   "outputs": [
    {
     "name": "stdout",
     "output_type": "stream",
     "text": [
      "False\n",
      "True\n",
      "1\n",
      "1\n",
      "True\n"
     ]
    }
   ],
   "source": [
    "b=\"samyu\"\n",
    "c=\"priy a\"\n",
    "print(c.endswith(\"B\"))\n",
    "print(b.startswith(\"s\"))\n",
    "print(c.index(\"r\"))\n",
    "print(b.count(\"y\"))\n",
    "print(c[4].isspace())"
   ]
  },
  {
   "cell_type": "code",
   "execution_count": 59,
   "metadata": {},
   "outputs": [
    {
     "name": "stdout",
     "output_type": "stream",
     "text": [
      "name is priya with roll  number 566 have 82.34 percentage\n"
     ]
    }
   ],
   "source": [
    "a=\"priya\"\n",
    "i=566\n",
    "f=82.34\n",
    "print(\"name is {} with roll  number {} have {} percentage\".format(a,i,f))"
   ]
  },
  {
   "cell_type": "code",
   "execution_count": 97,
   "metadata": {},
   "outputs": [
    {
     "ename": "SyntaxError",
     "evalue": "(unicode error) 'unicodeescape' codec can't decode bytes in position 0-1: truncated \\xXX escape (<ipython-input-97-e4b9a6122455>, line 1)",
     "output_type": "error",
     "traceback": [
      "\u001b[1;36m  File \u001b[1;32m\"<ipython-input-97-e4b9a6122455>\"\u001b[1;36m, line \u001b[1;32m1\u001b[0m\n\u001b[1;33m    a=\"\\x\"\u001b[0m\n\u001b[1;37m     ^\u001b[0m\n\u001b[1;31mSyntaxError\u001b[0m\u001b[1;31m:\u001b[0m (unicode error) 'unicodeescape' codec can't decode bytes in position 0-1: truncated \\xXX escape\n"
     ]
    }
   ],
   "source": [
    "a=\"samYU123 BUD hifi546 @!( 7   )\"\n",
    "print(a.isascii())"
   ]
  },
  {
   "cell_type": "code",
   "execution_count": 1,
   "metadata": {},
   "outputs": [
    {
     "name": "stdout",
     "output_type": "stream",
     "text": [
      "enter string samyu12345\n",
      "15\n"
     ]
    }
   ],
   "source": [
    "a=input(\"enter string \")\n",
    "s1=0\n",
    "for i in range(len(a)):\n",
    "    if a[i].isdigit():\n",
    "        s1=s1+int(a[i])\n",
    "print(s1)\n",
    "        "
   ]
  },
  {
   "cell_type": "code",
   "execution_count": 2,
   "metadata": {},
   "outputs": [
    {
     "name": "stdout",
     "output_type": "stream",
     "text": [
      "enter string 12345samyu\n",
      "5\n"
     ]
    }
   ],
   "source": [
    "a=input(\"enter string \")\n",
    "s1=0\n",
    "for i in range(len(a)):\n",
    "    if a[i].isdigit():\n",
    "        s1=int(a[i])\n",
    "print(s1)\n",
    "        "
   ]
  },
  {
   "cell_type": "code",
   "execution_count": 5,
   "metadata": {},
   "outputs": [
    {
     "name": "stdout",
     "output_type": "stream",
     "text": [
      "enter string Samskds(*&^%$#@12345678      edrbnol.po\n",
      "8\n",
      "1\n",
      "15\n",
      "6\n",
      "9\n"
     ]
    }
   ],
   "source": [
    "a=input(\"enter string \")\n",
    "d=0\n",
    "u=0\n",
    "l=0\n",
    "spc=0\n",
    "spl=0\n",
    "for i in range(len(a)):\n",
    "    if a[i].isdigit():\n",
    "        d+=1\n",
    "    elif a[i].isupper():\n",
    "        u+=1\n",
    "    elif a[i].islower():\n",
    "        l+=1\n",
    "    elif a[i].isspace():\n",
    "        spc+=1\n",
    "    else:\n",
    "        spl+=1\n",
    "print(d)\n",
    "print(u)\n",
    "print(l)\n",
    "print(spc)\n",
    "print(spl)\n",
    "    \n",
    "        "
   ]
  },
  {
   "cell_type": "markdown",
   "metadata": {},
   "source": [
    "# Functions\n",
    "#### pre-defined functions\n",
    "- input(),print(),int(),str(),floor(),type(),dir(),abs(),min(),max()\n",
    "#### User-defined functions\n"
   ]
  },
  {
   "cell_type": "code",
   "execution_count": 6,
   "metadata": {},
   "outputs": [
    {
     "data": {
      "text/plain": [
       "49"
      ]
     },
     "execution_count": 6,
     "metadata": {},
     "output_type": "execute_result"
    }
   ],
   "source": [
    "a=49\n",
    "abs(a)"
   ]
  },
  {
   "cell_type": "code",
   "execution_count": 11,
   "metadata": {},
   "outputs": [
    {
     "name": "stdout",
     "output_type": "stream",
     "text": [
      " \n",
      "y\n"
     ]
    }
   ],
   "source": [
    "a=\"hello this is miss priya\"\n",
    "print(min(a))\n",
    "print(max(a))"
   ]
  },
  {
   "cell_type": "code",
   "execution_count": 20,
   "metadata": {},
   "outputs": [
    {
     "data": {
      "text/plain": [
       "'ᅜ'"
      ]
     },
     "execution_count": 20,
     "metadata": {},
     "output_type": "execute_result"
    }
   ],
   "source": [
    "chr(91)\n",
    "chr(134)\n",
    "chr(4444)\n"
   ]
  },
  {
   "cell_type": "code",
   "execution_count": 15,
   "metadata": {},
   "outputs": [
    {
     "data": {
      "text/plain": [
       "38"
      ]
     },
     "execution_count": 15,
     "metadata": {},
     "output_type": "execute_result"
    }
   ],
   "source": [
    "ord(\"@\")\n",
    "ord(\"&\")"
   ]
  },
  {
   "cell_type": "code",
   "execution_count": 17,
   "metadata": {},
   "outputs": [
    {
     "data": {
      "text/plain": [
       "122"
      ]
     },
     "execution_count": 17,
     "metadata": {},
     "output_type": "execute_result"
    }
   ],
   "source": [
    "ord(\"A\")\n",
    "ord(\"z\")"
   ]
  },
  {
   "cell_type": "code",
   "execution_count": 18,
   "metadata": {},
   "outputs": [
    {
     "data": {
      "text/plain": [
       "97"
      ]
     },
     "execution_count": 18,
     "metadata": {},
     "output_type": "execute_result"
    }
   ],
   "source": [
    "ord(\"a\")"
   ]
  },
  {
   "cell_type": "markdown",
   "metadata": {},
   "source": [
    "# User defined Functions\n",
    "- Required arguments\n",
    "- Keyword arguments\n",
    "- Default arguments\n",
    "- Variable-length arguments"
   ]
  },
  {
   "cell_type": "code",
   "execution_count": 21,
   "metadata": {},
   "outputs": [
    {
     "name": "stdout",
     "output_type": "stream",
     "text": [
      "enter a2\n",
      "enter b4\n"
     ]
    },
    {
     "data": {
      "text/plain": [
       "6"
      ]
     },
     "execution_count": 21,
     "metadata": {},
     "output_type": "execute_result"
    }
   ],
   "source": [
    "def samplefunction(a,b):\n",
    "    c=a+b\n",
    "    return c\n",
    "a=int(input(\"enter a\"))\n",
    "b=int(input(\"enter b\"))\n",
    "samplefunction(a,b)\n",
    "\n",
    "    "
   ]
  },
  {
   "cell_type": "code",
   "execution_count": 23,
   "metadata": {},
   "outputs": [
    {
     "name": "stdout",
     "output_type": "stream",
     "text": [
      "enter a2\n",
      "enter b5\n"
     ]
    },
    {
     "data": {
      "text/plain": [
       "7"
      ]
     },
     "execution_count": 23,
     "metadata": {},
     "output_type": "execute_result"
    }
   ],
   "source": [
    " samplefunction(int(input(\"enter a\")),int(input(\"enter b\")))"
   ]
  },
  {
   "cell_type": "code",
   "execution_count": 33,
   "metadata": {},
   "outputs": [
    {
     "name": "stdout",
     "output_type": "stream",
     "text": [
      "integer 445 string is sam and float 12.55\n"
     ]
    }
   ],
   "source": [
    "def keywordargs(a,b,c):\n",
    "    print(\"integer {} string is {} and float {}\".format(c,b,a))\n",
    "keywordargs(a=\"12.55\",b=\"sam\",c=445)"
   ]
  },
  {
   "cell_type": "code",
   "execution_count": 49,
   "metadata": {},
   "outputs": [
    {
     "name": "stdout",
     "output_type": "stream",
     "text": [
      "1 23 78 1.35\n",
      "1 2 3 4\n",
      "a b 12.89 1.35\n",
      "12.89 876.3 78 1.35\n"
     ]
    }
   ],
   "source": [
    "def defaultargs(a=10,b=23,c=\"78\",d=1.35):\n",
    "    print(a,b,c,d)\n",
    "defaultargs(1)\n",
    "defaultargs(1,2,3,4)\n",
    "defaultargs(\"a\",\"b\",12.89)\n",
    "defaultargs(12.89,876.3)"
   ]
  },
  {
   "cell_type": "code",
   "execution_count": null,
   "metadata": {},
   "outputs": [],
   "source": []
  },
  {
   "cell_type": "code",
   "execution_count": 50,
   "metadata": {},
   "outputs": [
    {
     "name": "stdout",
     "output_type": "stream",
     "text": [
      "1\n",
      "2\n",
      "(4, 5, 6, 'hi', 89, 987, 234, 'python')\n",
      "3\n",
      "1\n",
      "3\n",
      "(7, 'fghi')\n",
      "6\n"
     ]
    }
   ],
   "source": [
    "def variableargs(a,b,d,*c):\n",
    "    print(a)\n",
    "    print(b)\n",
    "    print(c)\n",
    "    print(d)\n",
    "variableargs(1,2,3,4,5,6,\"hi\",89,987,234,\"python\")\n",
    "variableargs(1,3,6,7,\"fghi\")"
   ]
  },
  {
   "cell_type": "code",
   "execution_count": 56,
   "metadata": {},
   "outputs": [
    {
     "name": "stdout",
     "output_type": "stream",
     "text": [
      "enter a value9\n",
      "enter b value3\n",
      "enter choice4\n",
      "3.0\n"
     ]
    }
   ],
   "source": [
    "a=int(input(\"enter a value\"))\n",
    "b=int(input(\"enter b value\"))\n",
    "ch=int(input(\"enter choice\"))\n",
    "if(ch==1):\n",
    "    add(a,b)\n",
    "elif(ch==2):\n",
    "    sub(a,b)\n",
    "elif(ch==3):\n",
    "    mul(a,b)\n",
    "elif(ch==4):\n",
    "    div(a,b)\n",
    "elif(ch==5):\n",
    "    mod(a,b)\n",
    "elif(ch==6):\n",
    "    power(a,b)\n",
    "elif(ch==7):\n",
    "    fdiv(a,b)\n",
    "else:\n",
    "    print(\"enter valid choice\")\n",
    "def add(a,b):\n",
    "    print(a+b)\n",
    "def sub(a,b):\n",
    "    print(a-b)\n",
    "def mul(a,b):\n",
    "    print(a*b)\n",
    "def div(a,b):\n",
    "    print(a/b)\n",
    "def mod(a,b):\n",
    "    print(a%b)\n",
    "def power(a,b):\n",
    "    print(a^b)\n",
    "def fdiv(a,b):\n",
    "    print(a//b)"
   ]
  },
  {
   "cell_type": "code",
   "execution_count": null,
   "metadata": {},
   "outputs": [],
   "source": []
  }
 ],
 "metadata": {
  "kernelspec": {
   "display_name": "Python 3",
   "language": "python",
   "name": "python3"
  },
  "language_info": {
   "codemirror_mode": {
    "name": "ipython",
    "version": 3
   },
   "file_extension": ".py",
   "mimetype": "text/x-python",
   "name": "python",
   "nbconvert_exporter": "python",
   "pygments_lexer": "ipython3",
   "version": "3.7.1"
  }
 },
 "nbformat": 4,
 "nbformat_minor": 2
}
