{
 "cells": [
  {
   "cell_type": "code",
   "execution_count": null,
   "metadata": {},
   "outputs": [],
   "source": []
  },
  {
   "cell_type": "markdown",
   "metadata": {},
   "source": [
    "# file handling\n",
    "- file is a collection of records,record is a collection of data and data is a collection of bytes\n",
    "## file operations\n",
    "- open()\n",
    "- close()\n",
    "## modes\n",
    "- read()\n",
    "- append()\n",
    "- while()"
   ]
  },
  {
   "cell_type": "code",
   "execution_count": 10,
   "metadata": {},
   "outputs": [
    {
     "name": "stdout",
     "output_type": "stream",
     "text": [
      "enter start12\n",
      "enter stop23\n",
      "[12, 14, 16, 18, 20, 22]\n",
      "[13, 15, 17, 19, 21, 23]\n"
     ]
    }
   ],
   "source": [
    "s=int(input(\"enter start\"))\n",
    "stop=int(input(\"enter stop\"))\n",
    "e=[]\n",
    "o=[]\n",
    "for i in range(s,stop+1):\n",
    "    if i%2==0:\n",
    "        e.append(i)\n",
    "    else:\n",
    "        o.append(i)\n",
    "print(e)\n",
    "print(o)"
   ]
  },
  {
   "cell_type": "code",
   "execution_count": 15,
   "metadata": {},
   "outputs": [
    {
     "name": "stdout",
     "output_type": "stream",
     "text": [
      "sai lakshmi\n",
      "pavan\n"
     ]
    }
   ],
   "source": [
    "f = open(\"data.txt\")\n",
    "fh=f.read()\n",
    "print(fh)\n",
    "f.close()"
   ]
  },
  {
   "cell_type": "code",
   "execution_count": 30,
   "metadata": {},
   "outputs": [
    {
     "name": "stdout",
     "output_type": "stream",
     "text": [
      "naninaninanisaisaisaisaisai\n"
     ]
    }
   ],
   "source": [
    "with open(\"data.txt\")as f:\n",
    "    fh=f.read()\n",
    "    print(fh)"
   ]
  },
  {
   "cell_type": "code",
   "execution_count": 31,
   "metadata": {},
   "outputs": [
    {
     "name": "stdout",
     "output_type": "stream",
     "text": [
      "4\n"
     ]
    }
   ],
   "source": [
    "with open(\"data.txt\",'w')as f:\n",
    "    fh=f.write(\"nani\")\n",
    "    print(fh)"
   ]
  },
  {
   "cell_type": "code",
   "execution_count": 32,
   "metadata": {},
   "outputs": [
    {
     "name": "stdout",
     "output_type": "stream",
     "text": [
      "3\n"
     ]
    }
   ],
   "source": [
    "with open(\"data.txt\",'a')as f:\n",
    "    fh=f.write(\"sai\")\n",
    "    print(fh)"
   ]
  },
  {
   "cell_type": "code",
   "execution_count": 36,
   "metadata": {},
   "outputs": [
    {
     "name": "stdout",
     "output_type": "stream",
     "text": [
      "1 0 7\n"
     ]
    }
   ],
   "source": [
    "with open(\"data.txt\",'r')as f:\n",
    "    c=w=ch=0\n",
    "    for i in f:\n",
    "        c+=1\n",
    "        for j in i:\n",
    "            if j==\" \":\n",
    "               w+=1\n",
    "            if j.isalnum():\n",
    "                ch+=1\n",
    "    print(c,w,ch)"
   ]
  },
  {
   "cell_type": "code",
   "execution_count": 39,
   "metadata": {},
   "outputs": [
    {
     "name": "stdout",
     "output_type": "stream",
     "text": [
      "sai\n",
      "nani\n",
      "harsha\n"
     ]
    }
   ],
   "source": [
    "l=[\"sai\",\"nani\",\"harsha\"]\n",
    "k=iter(l)\n",
    "print(next(k))\n",
    "print(next(k))\n",
    "print(next(k))"
   ]
  },
  {
   "cell_type": "code",
   "execution_count": 40,
   "metadata": {},
   "outputs": [
    {
     "name": "stdout",
     "output_type": "stream",
     "text": [
      "1\n",
      "2\n",
      "3\n"
     ]
    }
   ],
   "source": [
    "def genfunction():\n",
    "    yield 1\n",
    "    yield 2\n",
    "    yield 3\n",
    "for i in genfunction():\n",
    "    print(i)\n",
    "    "
   ]
  },
  {
   "cell_type": "code",
   "execution_count": 41,
   "metadata": {},
   "outputs": [
    {
     "name": "stdout",
     "output_type": "stream",
     "text": [
      "8\n",
      "512\n",
      "134217728\n"
     ]
    }
   ],
   "source": [
    "def cube():\n",
    "    n=2\n",
    "    while True:\n",
    "        n=n**3\n",
    "        yield n\n",
    "a= cube()\n",
    "for i in range(3):\n",
    "    print(next(a))"
   ]
  },
  {
   "cell_type": "code",
   "execution_count": 43,
   "metadata": {},
   "outputs": [
    {
     "name": "stdout",
     "output_type": "stream",
     "text": [
      "enter1 2 3 3 5 6 \n"
     ]
    },
    {
     "data": {
      "text/plain": [
       "[1, 2, 3, 3, 5, 6]"
      ]
     },
     "execution_count": 43,
     "metadata": {},
     "output_type": "execute_result"
    }
   ],
   "source": [
    "l=input(\"enter\").split()\n",
    "k=list(map(int,l))\n",
    "k"
   ]
  },
  {
   "cell_type": "code",
   "execution_count": 44,
   "metadata": {},
   "outputs": [
    {
     "name": "stdout",
     "output_type": "stream",
     "text": [
      "[1, 4, 9, 1849, 529]\n",
      "[1, 9, 16, 4]\n"
     ]
    }
   ],
   "source": [
    "def square(n):\n",
    "    n=n**2\n",
    "    return n\n",
    "k=list(map(square,[1,3,4,2]))\n",
    "li=[1,2,3,43,23]\n",
    "k1=list(map(square,li))\n",
    "print(k1)\n",
    "print(k)"
   ]
  },
  {
   "cell_type": "code",
   "execution_count": 2,
   "metadata": {},
   "outputs": [
    {
     "name": "stdout",
     "output_type": "stream",
     "text": [
      "[1, 2, 34]\n"
     ]
    }
   ],
   "source": [
    "l=[1,2,34,\"s\"]\n",
    "def func(c):\n",
    "    c=str(c)\n",
    "    if c.isdigit():\n",
    "        return True\n",
    "    return False\n",
    "k=list(filter(func,l))\n",
    "print(k)"
   ]
  },
  {
   "cell_type": "code",
   "execution_count": 6,
   "metadata": {},
   "outputs": [
    {
     "data": {
      "text/plain": [
       "[2, 4, 68, 'ss']"
      ]
     },
     "execution_count": 6,
     "metadata": {},
     "output_type": "execute_result"
    }
   ],
   "source": [
    "l=[1,2,34,\"s\"]\n",
    "s=list(map(lambda x:x*2,l))\n",
    "s"
   ]
  },
  {
   "cell_type": "code",
   "execution_count": 15,
   "metadata": {},
   "outputs": [
    {
     "data": {
      "text/plain": [
       "11"
      ]
     },
     "execution_count": 15,
     "metadata": {},
     "output_type": "execute_result"
    }
   ],
   "source": [
    "p=lambda k:k+2\n",
    "p(9)"
   ]
  },
  {
   "cell_type": "code",
   "execution_count": 10,
   "metadata": {},
   "outputs": [
    {
     "data": {
      "text/plain": [
       "5.0"
      ]
     },
     "execution_count": 10,
     "metadata": {},
     "output_type": "execute_result"
    }
   ],
   "source": [
    "from math import sqrt\n",
    "k=sqrt(25)\n",
    "k"
   ]
  },
  {
   "cell_type": "code",
   "execution_count": 13,
   "metadata": {},
   "outputs": [
    {
     "data": {
      "text/plain": [
       "5"
      ]
     },
     "execution_count": 13,
     "metadata": {},
     "output_type": "execute_result"
    }
   ],
   "source": [
    "import random\n",
    "random.randint(5,8)"
   ]
  },
  {
   "cell_type": "code",
   "execution_count": 18,
   "metadata": {},
   "outputs": [
    {
     "name": "stdout",
     "output_type": "stream",
     "text": [
      "[1, 2, 3, 4, 8, 9]\n"
     ]
    }
   ],
   "source": [
    "ma=[[1,2],[3,4],[8,9]]\n",
    "fe=[item for row in ma for item in row]\n",
    "print(fe)"
   ]
  },
  {
   "cell_type": "code",
   "execution_count": 24,
   "metadata": {},
   "outputs": [
    {
     "name": "stdout",
     "output_type": "stream",
     "text": [
      "[6]\n"
     ]
    }
   ],
   "source": [
    "n=[1,2,3,4,5,6,8]\n",
    "s=[m for m in n if m%2==0 if m%3==0]\n",
    "print(s)"
   ]
  },
  {
   "cell_type": "code",
   "execution_count": 26,
   "metadata": {},
   "outputs": [
    {
     "data": {
      "text/plain": [
       "['even', 'odd', 'even', 'odd', 'even', 'odd', 'even']"
      ]
     },
     "execution_count": 26,
     "metadata": {},
     "output_type": "execute_result"
    }
   ],
   "source": [
    "a=[\"even\" if i%2==0 else \"odd\" for i in range(7)]\n",
    "a"
   ]
  },
  {
   "cell_type": "code",
   "execution_count": 27,
   "metadata": {},
   "outputs": [
    {
     "data": {
      "text/plain": [
       "[[0, 1, 2, 3, 4, 5, 6], [0, 1, 2, 3, 4, 5, 6], [0, 1, 2, 3, 4, 5, 6]]"
      ]
     },
     "execution_count": 27,
     "metadata": {},
     "output_type": "execute_result"
    }
   ],
   "source": [
    "matrix=[[item for item in range(7)]for row in range(3)]\n",
    "matrix"
   ]
  },
  {
   "cell_type": "code",
   "execution_count": 28,
   "metadata": {},
   "outputs": [
    {
     "data": {
      "text/plain": [
       "[0, 1, 8, 27, 64, 125, 216, 343, 512, 729, 1000, 1331]"
      ]
     },
     "execution_count": 28,
     "metadata": {},
     "output_type": "execute_result"
    }
   ],
   "source": [
    "c=[i**3 for i in range(12)]\n",
    "c"
   ]
  },
  {
   "cell_type": "code",
   "execution_count": 29,
   "metadata": {},
   "outputs": [
    {
     "data": {
      "text/plain": [
       "[1, 8, 27, 64]"
      ]
     },
     "execution_count": 29,
     "metadata": {},
     "output_type": "execute_result"
    }
   ],
   "source": [
    "l=[1,2,3,4]\n",
    "c=[i**3 for i in l]\n",
    "c"
   ]
  },
  {
   "cell_type": "code",
   "execution_count": 35,
   "metadata": {},
   "outputs": [
    {
     "data": {
      "text/plain": [
       "{'apples': 70.0, 'banana': 89.0}"
      ]
     },
     "execution_count": 35,
     "metadata": {},
     "output_type": "execute_result"
    }
   ],
   "source": [
    "p={\"apples\":70,\"banana\":89}\n",
    "float_p={key:float(value) for key,value in p.items()}\n",
    "float_p"
   ]
  },
  {
   "cell_type": "code",
   "execution_count": null,
   "metadata": {},
   "outputs": [],
   "source": [
    "\n"
   ]
  },
  {
   "cell_type": "code",
   "execution_count": null,
   "metadata": {},
   "outputs": [],
   "source": []
  }
 ],
 "metadata": {
  "kernelspec": {
   "display_name": "Python 3",
   "language": "python",
   "name": "python3"
  },
  "language_info": {
   "codemirror_mode": {
    "name": "ipython",
    "version": 3
   },
   "file_extension": ".py",
   "mimetype": "text/x-python",
   "name": "python",
   "nbconvert_exporter": "python",
   "pygments_lexer": "ipython3",
   "version": "3.7.1"
  }
 },
 "nbformat": 4,
 "nbformat_minor": 2
}
